{
 "cells": [
  {
   "cell_type": "code",
   "execution_count": 8,
   "id": "6d3ee0c4-38cd-4ba6-82bc-55b63f3e7fd9",
   "metadata": {},
   "outputs": [
    {
     "name": "stdout",
     "output_type": "stream",
     "text": [
      "Data has been cleaned successfully\n"
     ]
    }
   ],
   "source": [
    "import json\n",
    "# Load the data\n",
    "def load_data(filename):\n",
    "    with open(filename,\"r\") as f:\n",
    "        data = json.load(f)\n",
    "    return data\n",
    "\n",
    "def clean_data(data):\n",
    "    # Remove users with missing names or id\n",
    "    data['users'] = [user for user in data['users'] if user['id'] and  user['name'].strip()]\n",
    "    \n",
    "    # Remove duplicate friends\n",
    "    for user in data['users']:\n",
    "        user['friends'] = list(set(user['friends']))\n",
    "        \n",
    "    # Remove inactive users\n",
    "    data['users'] = [user for user in data['users'] if user['friends'] or user['liked_pages']]\n",
    "\n",
    "    # Remove duplicate pages\n",
    "    unique_pages = {}\n",
    "    for page in data['pages']:\n",
    "        unique_pages[page['id']] = page['name']\n",
    "    data['pages'] = unique_pages\n",
    "    return data\n",
    "\n",
    "def import_data(filename, data):\n",
    "    with open(filename,\"w\") as f:\n",
    "        json.dump(data,f, indent = 4)\n",
    "\n",
    "data = load_data(\"data2.json\")\n",
    "data = clean_data(data)\n",
    "import_data(\"cleaned_data2.json\",data)\n",
    "print(\"Data has been cleaned successfully\")"
   ]
  },
  {
   "cell_type": "code",
   "execution_count": null,
   "id": "5612c2c4-62a4-403e-ac76-f79d1fe0660e",
   "metadata": {},
   "outputs": [],
   "source": []
  }
 ],
 "metadata": {
  "kernelspec": {
   "display_name": "Python [conda env:base] *",
   "language": "python",
   "name": "conda-base-py"
  },
  "language_info": {
   "codemirror_mode": {
    "name": "ipython",
    "version": 3
   },
   "file_extension": ".py",
   "mimetype": "text/x-python",
   "name": "python",
   "nbconvert_exporter": "python",
   "pygments_lexer": "ipython3",
   "version": "3.12.7"
  }
 },
 "nbformat": 4,
 "nbformat_minor": 5
}
